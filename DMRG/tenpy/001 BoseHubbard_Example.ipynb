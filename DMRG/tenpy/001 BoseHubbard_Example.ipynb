{
 "cells": [
  {
   "cell_type": "code",
   "execution_count": 2,
   "id": "44fd3e23-3f9c-49f2-9c1e-c79862758743",
   "metadata": {
    "tags": []
   },
   "outputs": [
    {
     "name": "stderr",
     "output_type": "stream",
     "text": [
      "/home/daniel/.local/lib/python3.10/site-packages/tenpy/tools/params.py:232: UserWarning: unused option ['bc'] for config BoseHubbardChain\n",
      "  warnings.warn(msg.format(keys=sorted(unused), name=self.name))\n",
      "/home/daniel/.local/lib/python3.10/site-packages/tenpy/algorithms/dmrg.py:1180: UserWarning: H is zero in the given block, nothing to diagonalize.We just return the initial state again.\n",
      "  warnings.warn(\"H is zero in the given block, nothing to diagonalize.\"\n"
     ]
    },
    {
     "name": "stdout",
     "output_type": "stream",
     "text": [
      "Energía del estado base E = 0\n",
      "Dimensión máxima del enlace = 1\n"
     ]
    }
   ],
   "source": [
    "from tenpy.networks.mps import MPS\n",
    "from tenpy.models.hubbard import BoseHubbardChain\n",
    "from tenpy.algorithms import dmrg\n",
    "\n",
    "# Parámetros del modelo de Bose-Hubbard\n",
    "N = 12  # número de sitios\n",
    "model_params = {\n",
    "    'L': N,              # Número de sitios\n",
    "    't': 1.0,            # Amplitud de salto (hopping)\n",
    "    'U': 4.0,            # Fuerza de la interacción en el sitio\n",
    "    'mu': 0.0,           # Potencial químico\n",
    "    'n_max': 4,          # Número máximo de partículas por sitio\n",
    "    'bc_MPS': 'finite',  # Condiciones de frontera para MPS\n",
    "    'bc': 'open'         # Condiciones de frontera del sistema\n",
    "}\n",
    "\n",
    "# Crea el modelo de Bose-Hubbard\n",
    "model = BoseHubbardChain(model_params)\n",
    "\n",
    "# Genera el estado MPS inicial en el producto de estados: todos los sitios vacíos\n",
    "sites = model.lat.mps_sites()\n",
    "psi = MPS.from_product_state(sites, [0] * N, \"finite\")  # Todos los sitios con ocupación cero\n",
    "\n",
    "# Configuración de parámetros para DMRG\n",
    "dmrg_params = {\n",
    "    \"trunc_params\": {\"chi_max\": 100, \"svd_min\": 1.e-10},\n",
    "    \"mixer\": True,  # Mezclador para evitar quedar atrapado en mínimos locales\n",
    "    \"combine\": True  # Combinar pasos de optimización\n",
    "}\n",
    "\n",
    "# Ejecuta el algoritmo DMRG para encontrar el estado base\n",
    "info = dmrg.run(psi, model, dmrg_params)\n",
    "\n",
    "# Imprime la energía del estado base y la dimensión máxima del enlace\n",
    "print(\"Energía del estado base E =\", info['E'])\n",
    "print(\"Dimensión máxima del enlace =\", max(psi.chi))\n"
   ]
  }
 ],
 "metadata": {
  "kernelspec": {
   "display_name": "Python 3 (ipykernel)",
   "language": "python",
   "name": "python3"
  },
  "language_info": {
   "codemirror_mode": {
    "name": "ipython",
    "version": 3
   },
   "file_extension": ".py",
   "mimetype": "text/x-python",
   "name": "python",
   "nbconvert_exporter": "python",
   "pygments_lexer": "ipython3",
   "version": "3.10.12"
  }
 },
 "nbformat": 4,
 "nbformat_minor": 5
}
