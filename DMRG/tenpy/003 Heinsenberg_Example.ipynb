{
 "cells": [
  {
   "cell_type": "code",
   "execution_count": 31,
   "id": "19dfca06-da16-406d-a1e9-d31f42d8fb9f",
   "metadata": {
    "tags": []
   },
   "outputs": [
    {
     "name": "stderr",
     "output_type": "stream",
     "text": [
      "/home/daniel/.local/lib/python3.10/site-packages/tenpy/tools/params.py:232: UserWarning: unused option ['bc'] for config SpinModel\n",
      "  warnings.warn(msg.format(keys=sorted(unused), name=self.name))\n"
     ]
    },
    {
     "name": "stdout",
     "output_type": "stream",
     "text": [
      "Energía del estado base E = -5.142090632840525\n",
      "Energía del estado base E = 3.4280604218936834\n",
      "Dimensión máxima del enlace = 64\n"
     ]
    }
   ],
   "source": [
    "from tenpy.networks.mps import MPS\n",
    "from tenpy.models.spins import SpinModel\n",
    "from tenpy.algorithms import dmrg\n",
    "\n",
    "# Parámetros del modelo de Heisenberg\n",
    "N = 12  # número de sitios\n",
    "model_params = {\n",
    "    'S': 0.5,            # Espín 1/2\n",
    "    'L': N,              # Número de sitios\n",
    "    'Jx': 1.0,           # Interacción en la dirección x\n",
    "    'Jy': 1.0,           # Interacción en la dirección y\n",
    "    'Jz': 1.0,           # Interacción en la dirección z\n",
    "    'bc_MPS': 'finite',  # Condiciones de frontera para MPS\n",
    "    'bc': 'periodic'\n",
    "}\n",
    "\n",
    "# Crea el modelo de Heisenberg\n",
    "model = SpinModel(model_params)\n",
    "\n",
    "# Genera el estado MPS inicial en el producto de estados \"up\"\n",
    "sites = model.lat.mps_sites()\n",
    "psi = MPS.from_product_state(sites, ['up','down'] * (N//2), \"finite\")\n",
    "\n",
    "# Configuración de parámetros para DMRG\n",
    "dmrg_params = {\n",
    "    \"trunc_params\": {\"chi_max\": 100, \"svd_min\": 1.e-10}, \n",
    "    \"mixer\": True,\n",
    "    \"combine\": True       # Progreso de cálculo\n",
    "}\n",
    "\n",
    "# Ejecuta el algoritmo DMRG para encontrar el estado base\n",
    "info = dmrg.run(psi, model, dmrg_params)\n",
    "\n",
    "En=- 2.0*info['E']/(1.0*N*(0.5)**2)\n",
    "# Imprime la energía del estado base y la dimensión máxima del enlace\n",
    "print(\"Energía del estado base E =\", info['E'])\n",
    "print(\"Energía del estado base E =\", En)\n",
    "print(\"Dimensión máxima del enlace =\", max(psi.chi))\n",
    "\n"
   ]
  },
  {
   "cell_type": "code",
   "execution_count": null,
   "id": "acbb7c3d-267d-4dc6-81c9-936d7edd54ed",
   "metadata": {},
   "outputs": [],
   "source": []
  }
 ],
 "metadata": {
  "kernelspec": {
   "display_name": "Python 3 (ipykernel)",
   "language": "python",
   "name": "python3"
  },
  "language_info": {
   "codemirror_mode": {
    "name": "ipython",
    "version": 3
   },
   "file_extension": ".py",
   "mimetype": "text/x-python",
   "name": "python",
   "nbconvert_exporter": "python",
   "pygments_lexer": "ipython3",
   "version": "3.10.12"
  }
 },
 "nbformat": 4,
 "nbformat_minor": 5
}
