{
 "cells": [
  {
   "cell_type": "code",
   "execution_count": 1,
   "id": "f6891869-aee7-4e45-93a6-e3b33fe02100",
   "metadata": {
    "tags": []
   },
   "outputs": [
    {
     "name": "stderr",
     "output_type": "stream",
     "text": [
      "/home/daniel/.local/lib/python3.10/site-packages/tenpy/tools/params.py:232: UserWarning: unused options for config FermiHubbardChain:\n",
      "['bc', 'n_down', 'n_up']\n",
      "  warnings.warn(msg.format(keys=sorted(unused), name=self.name))\n"
     ]
    },
    {
     "name": "stdout",
     "output_type": "stream",
     "text": [
      "Energía del estado base E = -9.32259028692308\n",
      "Dimensión máxima del enlace = 200\n"
     ]
    }
   ],
   "source": [
    "from tenpy.networks.mps import MPS\n",
    "from tenpy.models.hubbard import FermiHubbardChain\n",
    "from tenpy.algorithms import dmrg\n",
    "\n",
    "# Parámetros del modelo de Fermi-Hubbard\n",
    "N = 12  # Número de sitios\n",
    "model_params = {\n",
    "    'L': N,              # Número de sitios\n",
    "    't': 1.0,            # Amplitud de salto (hopping)\n",
    "    'U': 4.0,            # Fuerza de interacción en el sitio\n",
    "    'mu': 0.0,           # Potencial químico\n",
    "    'n_up': 6,           # Número de fermiones con spin up\n",
    "    'n_down': 6,         # Número de fermiones con spin down\n",
    "    'bc_MPS': 'finite',  # Condiciones de frontera para MPS\n",
    "    'bc': 'open'         # Condiciones de frontera del modelo\n",
    "}\n",
    "\n",
    "# Crea el modelo de Fermi-Hubbard\n",
    "model = FermiHubbardChain(model_params)\n",
    "\n",
    "# Genera el estado MPS inicial: alternancia entre spins up y down\n",
    "sites = model.lat.mps_sites()\n",
    "initial_state = ['empty', 'up', 'down'] * (N // 3)  # Alterna vacío, spin up y spin down\n",
    "psi = MPS.from_product_state(sites, initial_state, \"finite\")\n",
    "\n",
    "# Configuración de parámetros para DMRG\n",
    "dmrg_params = {\n",
    "    \"trunc_params\": {\"chi_max\": 200, \"svd_min\": 1.e-10},  # Mayor chi_max por complejidad del modelo\n",
    "    \"mixer\": True,  # Ayuda a evitar mínimos locales\n",
    "    \"combine\": True  # Combina pasos de optimización\n",
    "}\n",
    "\n",
    "# Ejecuta el algoritmo DMRG para encontrar el estado base\n",
    "info = dmrg.run(psi, model, dmrg_params)\n",
    "\n",
    "# Imprime la energía del estado base y la dimensión máxima del enlace\n",
    "print(\"Energía del estado base E =\", info['E'])\n",
    "print(\"Dimensión máxima del enlace =\", max(psi.chi))\n"
   ]
  }
 ],
 "metadata": {
  "kernelspec": {
   "display_name": "Python 3 (ipykernel)",
   "language": "python",
   "name": "python3"
  },
  "language_info": {
   "codemirror_mode": {
    "name": "ipython",
    "version": 3
   },
   "file_extension": ".py",
   "mimetype": "text/x-python",
   "name": "python",
   "nbconvert_exporter": "python",
   "pygments_lexer": "ipython3",
   "version": "3.10.12"
  }
 },
 "nbformat": 4,
 "nbformat_minor": 5
}
